{
 "cells": [
  {
   "cell_type": "code",
   "execution_count": 1,
   "metadata": {
    "collapsed": true
   },
   "outputs": [],
   "source": [
    "import torch\n",
    "import torch.nn as nn\n",
    "import torch.utils.data"
   ]
  },
  {
   "cell_type": "code",
   "execution_count": 9,
   "metadata": {
    "collapsed": true
   },
   "outputs": [],
   "source": [
    "class SimpleNry(nn.Module):\n",
    "    def __init__(self):\n",
    "        super(Simple, self).__init__()\n",
    "        self.fc1 = nn.Linear(320, 50)\n",
    "        self.fc2 = nn.Linear(50, 10)\n",
    "        \n",
    "    def forward(self, x):\n",
    "        x = fc1(x)\n",
    "        x = fc2(x)\n",
    "        \n",
    "        return x"
   ]
  },
  {
   "cell_type": "code",
   "execution_count": null,
   "metadata": {
    "collapsed": true
   },
   "outputs": [],
   "source": [
    "class"
   ]
  },
  {
   "cell_type": "code",
   "execution_count": null,
   "metadata": {
    "collapsed": true
   },
   "outputs": [],
   "source": [
    "def fit(train_loader, test_loader, model, criterion, optimizer, epochs, cuda = False, log_interval = 100, visdom = None):\n",
    "    best_loss_test = 10000\n",
    "    \n",
    "    for epoch in range(epochs):\n",
    "        # train\n",
    "        train(train_loader, model, criterion, optimizer, epoch, cuda, log_interval, visdom)\n",
    "        \n",
    "        # test\n",
    "        loss_tmp = test(test_loader, model, criterion, optimizer, epoch, cuda, log_interval, visdom)\n",
    "        \n",
    "        if best_loss_test > loss_tmp:\n",
    "            best_loss_test = loss_tmp\n",
    "            torch.save(model.state_dict(), \"./model/model_best.pth\")\n",
    "            with open(\"./model/best_score\", \"wt\") as f:\n",
    "                f.write(best_losss_test)\n",
    "        "
   ]
  },
  {
   "cell_type": "code",
   "execution_count": 11,
   "metadata": {
    "collapsed": true
   },
   "outputs": [],
   "source": [
    "def train(train_loader, model, criterion, optimizer, epoch, cuda = False, log_interval = 100, visdom = None):\n",
    "    model.train\n",
    "    \n",
    "    loss_sum = 0\n",
    "    for batch_idx, (data, target) in enumerate(train_loader):\n",
    "        if cuda == True:\n",
    "            data = data.cuda()\n",
    "            target = target.cuda()\n",
    "        \n",
    "        loss = criterion(output, target)\n",
    "        loss_sum += loss.data\n",
    "        \n",
    "        optimizer.zero_grad()\n",
    "        loss.backward()\n",
    "        optimizer.step()\n",
    "        \n",
    "        if batch_idx % log_interval  == 0:\n",
    "            print('Train Epoch : {} [{}/{}] \\t Loss : {:4f}'.format(epoch, batch_idx * len(data1), len(train_loader.dataset), loss_sum / batch_idx))\n",
    "\n",
    "    loss_avg = loss_sum / batch_idx\n",
    "    print('Train Epoch : {}  \\t Avg_Loss : {:4f}'.format(epoch, loss_avg))\n",
    "    \n",
    "    if visdom != None:\n",
    "        visdom.plot(\"loss\", \"train\", epoch, loss_avg)\n",
    "    "
   ]
  },
  {
   "cell_type": "code",
   "execution_count": 14,
   "metadata": {
    "collapsed": true
   },
   "outputs": [],
   "source": [
    "def test(test_loader, model, criterion, epoch, cuda = False, visdom = None):\n",
    "    model.eval()\n",
    "    best_loss_sum = 10000\n",
    "    loss_sum = 0\n",
    "    \n",
    "    for batch_idx, (data, target) in enumerate(test_loader):\n",
    "        if cuda == True:\n",
    "            data = data.cuda()\n",
    "            target = target.cuda()\n",
    "            \n",
    "        output = model(data)\n",
    "        \n",
    "        loss = criterion(output, target)\n",
    "        loss_sum += loss\n",
    "    \n",
    "    loss_avg = loss_sum / batch_idx\n",
    "    \n",
    "    print('Test Epoch : {}  \\t Avg_Loss : {:4f}'.format(epoch, loss_avg))\n",
    "    if visdom != None:\n",
    "        visdom.plot(\"loss\", \"test\", epoch, loss_avg)\n",
    "    \n",
    "    return loss_avg"
   ]
  },
  {
   "cell_type": "code",
   "execution_count": 15,
   "metadata": {
    "collapsed": true
   },
   "outputs": [],
   "source": [
    "# Visdom\n",
    "class VisdomLinePlotter(object):\n",
    "    def __init__(self, env_name):\n",
    "        self.viz = Visdom()\n",
    "        self.env = env_name\n",
    "        self.plots = {}\n",
    "        \n",
    "    def plot(self, var_name, split_name, x, y):\n",
    "        if var_name not in self.plots:\n",
    "            self.plots[var_name] = self.viz.line(X = np.array([x, x]), Y = np.array(y, y), env = self.env, \n",
    "                                                opt = dict(\n",
    "                                                    legend = [split_name],\n",
    "                                                    title = var_name,\n",
    "                                                    xlabel = 'Epochs', \n",
    "                                                    ylabel = var_name\n",
    "                                                ))\n",
    "        else:\n",
    "            self.viz.updateTrace(X = np.array([x]), Y = np.array([y]), env = self.env, win = self.plots[var_name], name = split_name)\n",
    "                                            "
   ]
  }
 ],
 "metadata": {
  "kernelspec": {
   "display_name": "Python 3",
   "language": "python",
   "name": "python3"
  },
  "language_info": {
   "codemirror_mode": {
    "name": "ipython",
    "version": 3
   },
   "file_extension": ".py",
   "mimetype": "text/x-python",
   "name": "python",
   "nbconvert_exporter": "python",
   "pygments_lexer": "ipython3",
   "version": "3.6.3"
  }
 },
 "nbformat": 4,
 "nbformat_minor": 2
}
